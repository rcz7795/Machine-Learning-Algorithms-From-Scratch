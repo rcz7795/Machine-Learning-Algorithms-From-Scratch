{
 "cells": [
  {
   "cell_type": "code",
   "execution_count": 2,
   "metadata": {},
   "outputs": [],
   "source": [
    "import numpy as np\n",
    "import pandas as pd \n",
    "import matplotlib.pyplot as plt\n",
    "import seaborn as sns\n",
    "\n",
    "from sklearn import datasets\n",
    "from sklearn.model_selection import train_test_split\n",
    "from sklearn.ensemble import AdaBoostClassifier"
   ]
  },
  {
   "cell_type": "code",
   "execution_count": 27,
   "metadata": {},
   "outputs": [],
   "source": [
    "class Stump:\n",
    "    \n",
    "    def __init__(self):\n",
    "        self.polarity = 1\n",
    "        self.feature_idx = None\n",
    "        self.threshold = None\n",
    "        self.alpha = None\n",
    "        \n",
    "    def predict(self, X):\n",
    "        n_samples = X.shape[0]\n",
    "        X_column = X[:, self.feature_idx]\n",
    "        \n",
    "        predictions = np.ones(n_samples)\n",
    "        if self.polarity == 1:\n",
    "            predictions[X_column < self.threshold] = -1\n",
    "        else:\n",
    "            predictions[X_column > self.threshold] = -1\n",
    "        \n",
    "        return predictions\n",
    "\n",
    "class AdaBoost:\n",
    "\n",
    "    def __init__(self, n_clf = 5):\n",
    "        self.n_clf = n_clf\n",
    "        self.y = None\n",
    "        \n",
    "    def fit(self, X, y):\n",
    "        n_samples, n_features = X.shape\n",
    "        weights = np.full(n_samples, (1/n_samples))\n",
    "        self.y = np.where(y == 0, -1, y)\n",
    "        self.classifiers = []\n",
    "        for _ in range(0, self.n_clf):\n",
    "            clf = Stump()\n",
    "            min_error = float('inf')\n",
    "            for feature_idx in range(0, n_features):\n",
    "                X_column = X[:, feature_idx]\n",
    "                thresholds = np.unique(X_column)\n",
    "                for threshold in thresholds:\n",
    "                    p = 1\n",
    "                    predictions = np.ones(n_samples)\n",
    "                    predictions[X_column < threshold] = -1\n",
    "                    misclassified = weights[self.y != predictions]\n",
    "                    error = sum(misclassified)\n",
    "                    \n",
    "                    if error > 0.5:\n",
    "                        error = 1 - error\n",
    "                        p = -1\n",
    "                    \n",
    "                    if error < min_error:\n",
    "                        min_error = error\n",
    "                        clf.polarity = p\n",
    "                        clf.threshold = threshold\n",
    "                        clf.feature_idx = feature_idx\n",
    "            eps = 1e-10\n",
    "            clf.alpha = (1/2)*np.log((1 - error)/(error + eps))\n",
    "            \n",
    "            predictions = clf.predict(X)\n",
    "            weights *= np.exp(-clf.alpha * y * predictions)\n",
    "            weights /= np.sum(weights)\n",
    "            \n",
    "            self.classifiers.append(clf)\n",
    "\n",
    "    def predict(self, X):\n",
    "        clf_pred = [clf.predict(X) * clf.alpha for clf in self.classifiers]\n",
    "        y_pred = np.sum(clf_pred, axis = 0)\n",
    "        y_pred = np.sign(y_pred)\n",
    "        y_pred = np.where(y_pred == -1, 0, y_pred)\n",
    "        \n",
    "        return y_pred\n",
    "\n",
    "def fcnAccuracy(y_true, y_pred):\n",
    "    accuracy = np.sum(y_true == y_pred) / len(y_true)\n",
    "    return accuracy"
   ]
  },
  {
   "cell_type": "code",
   "execution_count": 30,
   "metadata": {},
   "outputs": [],
   "source": [
    "data = datasets.load_breast_cancer()\n",
    "X = data.data\n",
    "y = data.target\n",
    "\n",
    "X_train, X_test, y_train, y_test = train_test_split(X, y, test_size=0.25, random_state=3)"
   ]
  },
  {
   "cell_type": "code",
   "execution_count": 31,
   "metadata": {},
   "outputs": [
    {
     "name": "stdout",
     "output_type": "stream",
     "text": [
      "Accuracy: 0.9300699300699301\n"
     ]
    }
   ],
   "source": [
    "dt = AdaBoost()\n",
    "dt.fit(X_train, y_train)\n",
    "    \n",
    "y_pred = dt.predict(X_test)\n",
    "accuracy = fcnAccuracy(y_test, y_pred)\n",
    "\n",
    "print (\"Accuracy:\", accuracy)"
   ]
  },
  {
   "cell_type": "code",
   "execution_count": 32,
   "metadata": {},
   "outputs": [
    {
     "name": "stdout",
     "output_type": "stream",
     "text": [
      "Accuracy: 0.9300699300699301\n"
     ]
    }
   ],
   "source": [
    "dt2 = AdaBoostClassifier(n_estimators=5)\n",
    "dt2.fit(X_train, y_train)\n",
    "    \n",
    "y_pred2 = dt.predict(X_test)\n",
    "accuracy2 = fcnAccuracy(y_test, y_pred)\n",
    "\n",
    "print (\"Accuracy:\", accuracy2)"
   ]
  },
  {
   "cell_type": "code",
   "execution_count": null,
   "metadata": {},
   "outputs": [],
   "source": []
  }
 ],
 "metadata": {
  "kernelspec": {
   "display_name": "Python 3",
   "language": "python",
   "name": "python3"
  },
  "language_info": {
   "codemirror_mode": {
    "name": "ipython",
    "version": 3
   },
   "file_extension": ".py",
   "mimetype": "text/x-python",
   "name": "python",
   "nbconvert_exporter": "python",
   "pygments_lexer": "ipython3",
   "version": "3.7.7"
  }
 },
 "nbformat": 4,
 "nbformat_minor": 4
}
