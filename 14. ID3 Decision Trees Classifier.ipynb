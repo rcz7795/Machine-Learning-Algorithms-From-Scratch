{
 "cells": [
  {
   "cell_type": "code",
   "execution_count": 2,
   "metadata": {},
   "outputs": [],
   "source": [
    "import numpy as np\n",
    "import pandas as pd \n",
    "import matplotlib.pyplot as plt\n",
    "from collections import Counter\n",
    "\n",
    "from sklearn import datasets\n",
    "from sklearn.model_selection import train_test_split\n",
    "from sklearn.tree import DecisionTreeClassifier\n",
    "from sklearn.tree import plot_tree"
   ]
  },
  {
   "cell_type": "code",
   "execution_count": 3,
   "metadata": {},
   "outputs": [],
   "source": [
    "def fcnCalculateEntropy(y):\n",
    "    lstHistogram = np.bincount(y)\n",
    "    lstProbability = lstHistogram / len(y)\n",
    "    return -np.sum([pi * np.log2(pi) for pi in lstProbability if pi > 0])"
   ]
  },
  {
   "cell_type": "code",
   "execution_count": 23,
   "metadata": {},
   "outputs": [],
   "source": [
    "class Node:\n",
    "\n",
    "    def __init__(self, feature = None, threshold = None, left = None, right = None, *, value = None):\n",
    "        self.feature = feature\n",
    "        self.threshold = threshold\n",
    "        self.left = left\n",
    "        self.right = right\n",
    "        self.value = value\n",
    "        \n",
    "    def is_leaf_node(self):\n",
    "        return self.value is not None\n",
    "    \n",
    "class ID3DecisionTreeClassifier:\n",
    "    \n",
    "    def __init__(self, min_sample_split = 2, max_depth = 100, n_feats = None, threshold_for_category = 10):\n",
    "        self.min_sample_split = min_sample_split\n",
    "        self.max_depth = max_depth\n",
    "        self.n_feats = n_feats\n",
    "        self.root = None\n",
    "        self.FeatureType = None\n",
    "        self.threshold_for_category = threshold_for_category\n",
    "        self.y = None\n",
    "        \n",
    "    def _label_categorical_features(self, y):\n",
    "        yUnique = np.unique(y)\n",
    "        Y = np.zeros(len(y) , dtype = int)\n",
    "        for intCtr in range(0, len(y)):\n",
    "            Y[intCtr] = np.argwhere(y[intCtr] == yUnique)\n",
    "        return Y\n",
    "\n",
    "    \n",
    "    def _determine_feature_type(self, X):\n",
    "        lstFeatureType = []\n",
    "        for intFeatureIterator in range(0, X.shape[1]):\n",
    "            if len(np.unique(X[:, intFeatureIterator])) <= self.threshold_for_category or isinstance(np.unique(X[:, intFeatureIterator]), str):\n",
    "                lstFeatureType.append(\"Categorical\")\n",
    "            else:\n",
    "                lstFeatureType.append(\"Continuous\")\n",
    "        \n",
    "        return lstFeatureType\n",
    "        \n",
    "    def fit(self, X, y):\n",
    "        self.n_feats = X.shape[1] if not self.n_feats else min(X.shape[1], self.n_feats)\n",
    "        self.FeatureType = self._determine_feature_type(X)\n",
    "        self.y = self._label_categorical_features(y)\n",
    "        self.root = self._grow_tree(X, y)\n",
    "        \n",
    "    def _grow_tree(self, X, y, depth = 0):\n",
    "        n_samples, n_features = X.shape\n",
    "        n_labels = len(np.unique(y))\n",
    "        \n",
    "        if (depth >= self.max_depth or n_labels == 1 or n_samples < self.min_sample_split):\n",
    "            leaf_value = self._most_common_label(y)\n",
    "            return Node(value = leaf_value)\n",
    "        \n",
    "        feat_idxs = np.random.choice(n_features, self.n_feats, replace = False)\n",
    "        \n",
    "        best_feat, best_thresh = self._best_criteria(X, y, feat_idxs)\n",
    "        left_idxs, right_idxs = self._Split(X[:, best_feat], best_thresh, self.FeatureType[best_feat])\n",
    "        left = self._grow_tree(X[left_idxs, :], y[left_idxs], depth+1)\n",
    "        right = self._grow_tree(X[right_idxs, :], y[right_idxs], depth+1)\n",
    "        \n",
    "        return Node(best_feat, best_thresh, left, right)       \n",
    "    \n",
    "    def _best_criteria(self, X, y, feat_idxs):\n",
    "        best_gain = -1\n",
    "        split_idx, split_thresh = None, None\n",
    "        for feat_idx in feat_idxs:\n",
    "            X_column = X[:, feat_idx]\n",
    "            feature_type = self.FeatureType[feat_idx]\n",
    "            thresholds = np.unique(X_column)\n",
    "            for threshold in thresholds:\n",
    "                gain = self._information_gain(self.y, X_column, threshold, feature_type)\n",
    "                if gain > best_gain:\n",
    "                    best_gain = gain\n",
    "                    split_idx = feat_idx\n",
    "                    split_thresh = threshold\n",
    "        return split_idx, split_thresh\n",
    "    \n",
    "  \n",
    "    def _information_gain(self, y, X_column, split_thresh, feature_type):\n",
    "        parent_entropy = fcnCalculateEntropy(y)\n",
    "        \n",
    "        left_idxs, right_idxs = self._Split(X_column, split_thresh, feature_type)\n",
    "        if len(left_idxs) == 0 or len(right_idxs) == 0:\n",
    "            return 0\n",
    "        n = len(y)\n",
    "        n_l, n_r = len(left_idxs), len(right_idxs)\n",
    "        e_l, e_r = fcnCalculateEntropy(y[left_idxs]), fcnCalculateEntropy(y[right_idxs])\n",
    "        child_entropy = (n_l/n) * e_l + (n_r/n) * e_r\n",
    "        ig = parent_entropy - child_entropy\n",
    "        return ig\n",
    "         \n",
    "    \n",
    "    def _Split(self, X_column, split_thresh, feature_type):\n",
    "        if feature_type == \"Continuous\":\n",
    "            left_idxs = np.argwhere(X_column <= split_thresh).flatten()\n",
    "            right_idxs = np.argwhere(X_column > split_thresh).flatten()\n",
    "        else:\n",
    "            left_idxs = np.argwhere(X_column == split_thresh).flatten()\n",
    "            right_idxs = np.argwhere(X_column != split_thresh).flatten()            \n",
    "        return left_idxs, right_idxs\n",
    "        \n",
    "    def _most_common_label(self, y):\n",
    "        counter = Counter(y)\n",
    "        most_common = counter.most_common(1)[0][0]\n",
    "        return most_common\n",
    "\n",
    "    def predict(self, X):\n",
    "        return np.array([self._traverse_tree(x, self.root) for x in X])\n",
    "    \n",
    "    def _traverse_tree(self, X, node):\n",
    "        if node.is_leaf_node():\n",
    "            return node.value\n",
    "\n",
    "        if self.FeatureType[node.feature] == \"Categorical\":\n",
    "            if X[node.feature] == node.threshold:\n",
    "                return self._traverse_tree(X, node.left)\n",
    "            return self._traverse_tree(X, node.right)        \n",
    "        else:\n",
    "            if X[node.feature] <= node.threshold:\n",
    "                return self._traverse_tree(X, node.left)\n",
    "\n",
    "            return self._traverse_tree(X, node.right)\n",
    "\n",
    "def fcnAccuracy(y_true, y_pred):\n",
    "    accuracy = np.sum(y_true == y_pred) / len(y_true)\n",
    "    return accuracy"
   ]
  },
  {
   "cell_type": "code",
   "execution_count": 70,
   "metadata": {},
   "outputs": [],
   "source": [
    "data = datasets.load_breast_cancer()\n",
    "X = data.data\n",
    "y = data.target\n",
    "\n",
    "X_train, X_test, y_train, y_test = train_test_split(X, y, test_size=0.25, random_state=2)"
   ]
  },
  {
   "cell_type": "code",
   "execution_count": 78,
   "metadata": {},
   "outputs": [
    {
     "name": "stdout",
     "output_type": "stream",
     "text": [
      "Accuracy: 0.9230769230769231\n"
     ]
    }
   ],
   "source": [
    "dt = ID3DecisionTreeClassifier(max_depth=10, threshold_for_category=0)\n",
    "dt.fit(X_train, y_train)\n",
    "    \n",
    "y_pred = dt.predict(X_test)\n",
    "accuracy = fcnAccuracy(y_test, y_pred)\n",
    "\n",
    "print (\"Accuracy:\", accuracy)"
   ]
  },
  {
   "cell_type": "code",
   "execution_count": 80,
   "metadata": {},
   "outputs": [
    {
     "name": "stdout",
     "output_type": "stream",
     "text": [
      "Accuracy: 0.9230769230769231\n"
     ]
    }
   ],
   "source": [
    "dt2 = DecisionTreeClassifier(max_depth=10, criterion='entropy')\n",
    "dt2.fit(X_train, y_train)\n",
    "    \n",
    "y_pred2 = dt2.predict(X_test)\n",
    "Accuracy = fcnAccuracy(y_test, y_pred2)\n",
    "\n",
    "print (\"Accuracy:\", Accuracy)"
   ]
  },
  {
   "cell_type": "code",
   "execution_count": 44,
   "metadata": {},
   "outputs": [
    {
     "data": {
      "text/html": [
       "<div>\n",
       "<style scoped>\n",
       "    .dataframe tbody tr th:only-of-type {\n",
       "        vertical-align: middle;\n",
       "    }\n",
       "\n",
       "    .dataframe tbody tr th {\n",
       "        vertical-align: top;\n",
       "    }\n",
       "\n",
       "    .dataframe thead th {\n",
       "        text-align: right;\n",
       "    }\n",
       "</style>\n",
       "<table border=\"1\" class=\"dataframe\">\n",
       "  <thead>\n",
       "    <tr style=\"text-align: right;\">\n",
       "      <th></th>\n",
       "      <th>Outlook</th>\n",
       "      <th>Temperature Numeric</th>\n",
       "      <th>Temperature Nominal</th>\n",
       "      <th>Humidity Numeric</th>\n",
       "      <th>Humidity Nominal</th>\n",
       "      <th>Windy</th>\n",
       "      <th>Play</th>\n",
       "    </tr>\n",
       "  </thead>\n",
       "  <tbody>\n",
       "    <tr>\n",
       "      <th>0</th>\n",
       "      <td>overcast</td>\n",
       "      <td>83</td>\n",
       "      <td>hot</td>\n",
       "      <td>86</td>\n",
       "      <td>high</td>\n",
       "      <td>False</td>\n",
       "      <td>yes</td>\n",
       "    </tr>\n",
       "    <tr>\n",
       "      <th>1</th>\n",
       "      <td>overcast</td>\n",
       "      <td>64</td>\n",
       "      <td>cool</td>\n",
       "      <td>65</td>\n",
       "      <td>normal</td>\n",
       "      <td>True</td>\n",
       "      <td>yes</td>\n",
       "    </tr>\n",
       "    <tr>\n",
       "      <th>2</th>\n",
       "      <td>overcast</td>\n",
       "      <td>72</td>\n",
       "      <td>mild</td>\n",
       "      <td>90</td>\n",
       "      <td>high</td>\n",
       "      <td>True</td>\n",
       "      <td>yes</td>\n",
       "    </tr>\n",
       "    <tr>\n",
       "      <th>3</th>\n",
       "      <td>overcast</td>\n",
       "      <td>81</td>\n",
       "      <td>hot</td>\n",
       "      <td>75</td>\n",
       "      <td>normal</td>\n",
       "      <td>False</td>\n",
       "      <td>yes</td>\n",
       "    </tr>\n",
       "    <tr>\n",
       "      <th>4</th>\n",
       "      <td>rainy</td>\n",
       "      <td>70</td>\n",
       "      <td>mild</td>\n",
       "      <td>96</td>\n",
       "      <td>high</td>\n",
       "      <td>False</td>\n",
       "      <td>yes</td>\n",
       "    </tr>\n",
       "  </tbody>\n",
       "</table>\n",
       "</div>"
      ],
      "text/plain": [
       "    Outlook  Temperature Numeric Temperature Nominal  Humidity Numeric  \\\n",
       "0  overcast                   83                 hot                86   \n",
       "1  overcast                   64                cool                65   \n",
       "2  overcast                   72                mild                90   \n",
       "3  overcast                   81                 hot                75   \n",
       "4     rainy                   70                mild                96   \n",
       "\n",
       "  Humidity Nominal  Windy Play  \n",
       "0             high  False  yes  \n",
       "1           normal   True  yes  \n",
       "2             high   True  yes  \n",
       "3           normal  False  yes  \n",
       "4             high  False  yes  "
      ]
     },
     "execution_count": 44,
     "metadata": {},
     "output_type": "execute_result"
    }
   ],
   "source": [
    "golf_data = pd.read_csv('golf_weather.csv')\n",
    "golf_data.head()"
   ]
  },
  {
   "cell_type": "code",
   "execution_count": 6,
   "metadata": {},
   "outputs": [],
   "source": [
    "golf_data.drop([\"Temperature Numeric\", \"Humidity Numeric\"], axis = 1, inplace = True)"
   ]
  },
  {
   "cell_type": "code",
   "execution_count": 7,
   "metadata": {},
   "outputs": [],
   "source": [
    "golf_data.head()\n",
    "X1 = golf_data.iloc[:,:-1].values\n",
    "Y1 = golf_data.iloc[:,-1].values"
   ]
  },
  {
   "cell_type": "code",
   "execution_count": 26,
   "metadata": {},
   "outputs": [],
   "source": [
    "dt3 = ID3DecisionTreeClassifier(max_depth=10)\n",
    "dt3.fit(X1, Y1)"
   ]
  },
  {
   "cell_type": "code",
   "execution_count": 30,
   "metadata": {},
   "outputs": [
    {
     "data": {
      "text/plain": [
       "array(['yes', 'no'], dtype='<U3')"
      ]
     },
     "execution_count": 30,
     "metadata": {},
     "output_type": "execute_result"
    }
   ],
   "source": [
    "dt3.predict(np.array([['overcast', 'hot', 'high', True], ['sunny', 'mild', 'high', False]] ))"
   ]
  },
  {
   "cell_type": "code",
   "execution_count": 81,
   "metadata": {},
   "outputs": [],
   "source": [
    "data2 = datasets.load_iris()\n",
    "X2 = data2.data\n",
    "y2= data2.target\n",
    "\n",
    "X2_train, X2_test, y2_train, y2_test = train_test_split(X2, y2, test_size=0.25, random_state=2)"
   ]
  },
  {
   "cell_type": "code",
   "execution_count": 113,
   "metadata": {},
   "outputs": [
    {
     "name": "stdout",
     "output_type": "stream",
     "text": [
      "Accuracy: 0.8947368421052632\n"
     ]
    }
   ],
   "source": [
    "dt4 = ID3DecisionTreeClassifier(max_depth=10, threshold_for_category=0)\n",
    "dt4.fit(X2_train, y2_train)\n",
    "    \n",
    "y_pred4 = dt4.predict(X2_test)\n",
    "accuracy4 = fcnAccuracy(y2_test, y_pred4)\n",
    "\n",
    "print (\"Accuracy:\", accuracy4)"
   ]
  },
  {
   "cell_type": "code",
   "execution_count": 117,
   "metadata": {},
   "outputs": [
    {
     "name": "stdout",
     "output_type": "stream",
     "text": [
      "Accuracy: 0.9473684210526315\n"
     ]
    }
   ],
   "source": [
    "dt5 = DecisionTreeClassifier(max_depth=10, criterion='entropy')\n",
    "dt5.fit(X2_train, y2_train)\n",
    "    \n",
    "y_pred5 = dt5.predict(X2_test)\n",
    "accuracy5 = fcnAccuracy(y2_test, y_pred5)\n",
    "\n",
    "print (\"Accuracy:\", accuracy5)"
   ]
  },
  {
   "cell_type": "code",
   "execution_count": null,
   "metadata": {},
   "outputs": [],
   "source": []
  }
 ],
 "metadata": {
  "kernelspec": {
   "display_name": "Python 3",
   "language": "python",
   "name": "python3"
  },
  "language_info": {
   "codemirror_mode": {
    "name": "ipython",
    "version": 3
   },
   "file_extension": ".py",
   "mimetype": "text/x-python",
   "name": "python",
   "nbconvert_exporter": "python",
   "pygments_lexer": "ipython3",
   "version": "3.7.7"
  }
 },
 "nbformat": 4,
 "nbformat_minor": 4
}
