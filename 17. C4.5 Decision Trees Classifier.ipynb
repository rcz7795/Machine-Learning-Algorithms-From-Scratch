{
 "cells": [
  {
   "cell_type": "code",
   "execution_count": 1,
   "metadata": {},
   "outputs": [],
   "source": [
    "import numpy as np\n",
    "import pandas as pd \n",
    "import matplotlib.pyplot as plt\n",
    "from collections import Counter\n",
    "\n",
    "from sklearn import datasets\n",
    "from sklearn.model_selection import train_test_split"
   ]
  },
  {
   "cell_type": "code",
   "execution_count": 2,
   "metadata": {},
   "outputs": [],
   "source": [
    "def fcnCalculateEntropy(y):\n",
    "    _, yUnique = np.unique(y, return_counts=True)\n",
    "    lstProbability = yUnique / len(y)\n",
    "    return -np.sum([pi * np.log2(pi) for pi in lstProbability if pi > 0])"
   ]
  },
  {
   "cell_type": "code",
   "execution_count": 3,
   "metadata": {},
   "outputs": [],
   "source": [
    "class Node:\n",
    "\n",
    "    def __init__(self, feature = None, threshold = None, left = None, right = None, *, value = None):\n",
    "        self.feature = feature\n",
    "        self.threshold = threshold\n",
    "        self.left = left\n",
    "        self.right = right\n",
    "        self.value = value\n",
    "        \n",
    "    def is_leaf_node(self):\n",
    "        return self.value is not None\n",
    "    \n",
    "class C_4_5_DecisionTreeClassifier:\n",
    "    \n",
    "    def __init__(self, min_sample_split = 2, max_depth = 100, n_feats = None, threshold_for_category = 10):\n",
    "        self.min_sample_split = min_sample_split\n",
    "        self.max_depth = max_depth\n",
    "        self.n_feats = n_feats\n",
    "        self.root = None\n",
    "        self.FeatureType = None\n",
    "        self.threshold_for_category = threshold_for_category\n",
    "        self.y = None\n",
    "        \n",
    "    def _label_categorical_features(self, y):\n",
    "        yUnique = np.unique(y)\n",
    "        Y = np.zeros(len(y) , dtype = int)\n",
    "        for intCtr in range(0, len(y)):\n",
    "            Y[intCtr] = np.argwhere(y[intCtr] == yUnique)\n",
    "        \n",
    "        return Y\n",
    "\n",
    "    def _determine_feature_type(self, X):\n",
    "        lstFeatureType = []\n",
    "        for intFeatureIterator in range(0, X.shape[1]):\n",
    "            if len(np.unique(X[:, intFeatureIterator])) <= self.threshold_for_category or isinstance(np.unique(X[:, intFeatureIterator]), str):\n",
    "                lstFeatureType.append(\"Categorical\")\n",
    "            else:\n",
    "                lstFeatureType.append(\"Continuous\")\n",
    "        \n",
    "        return lstFeatureType\n",
    "        \n",
    "    def fit(self, X, y):\n",
    "        self.n_feats = X.shape[1] if not self.n_feats else min(X.shape[1], self.n_feats)\n",
    "        self.FeatureType = self._determine_feature_type(X)\n",
    "        self.y = self._label_categorical_features(y)\n",
    "        self.root = self._grow_tree(X, y)\n",
    "        \n",
    "    def _grow_tree(self, X, y, depth = 0):\n",
    "        n_samples, n_features = X.shape\n",
    "        n_labels = len(np.unique(y))\n",
    "        \n",
    "        if (depth >= self.max_depth or n_labels == 1 or n_samples < self.min_sample_split):\n",
    "            leaf_value = self._most_common_label(y)\n",
    "            return Node(value = leaf_value)\n",
    "        \n",
    "        feat_idxs = np.random.choice(n_features, self.n_feats, replace = False)\n",
    "        \n",
    "        best_feat, best_thresh = self._best_criteria(X, y, feat_idxs)\n",
    "        left_idxs, right_idxs = self._Split(X[:, best_feat], best_thresh, self.FeatureType[best_feat])\n",
    "        left = self._grow_tree(X[left_idxs, :], y[left_idxs], depth+1)\n",
    "        right = self._grow_tree(X[right_idxs, :], y[right_idxs], depth+1)\n",
    "        \n",
    "        return Node(best_feat, best_thresh, left, right)       \n",
    "    \n",
    "    def _best_criteria(self, X, y, feat_idxs):\n",
    "        best_gain_ratio = -1\n",
    "        split_idx, split_thresh = None, None\n",
    "        for feat_idx in feat_idxs:\n",
    "            X_column = X[:, feat_idx]\n",
    "            feature_type = self.FeatureType[feat_idx]\n",
    "            thresholds = np.unique(X_column)\n",
    "            for threshold in thresholds:\n",
    "                gain_ratio = self._gain_ratio(self.y, X_column, threshold, feature_type)\n",
    "                if gain_ratio > best_gain_ratio:\n",
    "                    best_gain_ratio = gain_ratio\n",
    "                    split_idx = feat_idx\n",
    "                    split_thresh = threshold\n",
    "        return split_idx, split_thresh\n",
    "    \n",
    "  \n",
    "    def _gain_ratio(self, y, X_column, split_thresh, feature_type):\n",
    "        parent_entropy = fcnCalculateEntropy(y)\n",
    "        left_idxs, right_idxs = self._Split(X_column, split_thresh, feature_type)\n",
    "        if len(left_idxs) == 0 or len(right_idxs) == 0:\n",
    "            return 0\n",
    "        n = len(y)\n",
    "        n_l, n_r = len(left_idxs), len(right_idxs)\n",
    "        e_l, e_r = fcnCalculateEntropy(y[left_idxs]), fcnCalculateEntropy(y[right_idxs])\n",
    "        child_entropy = (n_l/n) * e_l + (n_r/n) * e_r\n",
    "        gain_split = parent_entropy - child_entropy\n",
    "        split_info = fcnCalculateEntropy(X_column)\n",
    "        return gain_split / split_info\n",
    "         \n",
    "    \n",
    "    def _Split(self, X_column, split_thresh, feature_type):\n",
    "        if feature_type == \"Continuous\":\n",
    "            left_idxs = np.argwhere(X_column <= split_thresh).flatten()\n",
    "            right_idxs = np.argwhere(X_column > split_thresh).flatten()\n",
    "        else:\n",
    "            left_idxs = np.argwhere(X_column == split_thresh).flatten()\n",
    "            right_idxs = np.argwhere(X_column != split_thresh).flatten()            \n",
    "        return left_idxs, right_idxs\n",
    "        \n",
    "    def _most_common_label(self, y):\n",
    "        counter = Counter(y)\n",
    "        most_common = counter.most_common(1)[0][0]\n",
    "        return most_common\n",
    "\n",
    "    def predict(self, X):\n",
    "        return np.array([self._traverse_tree(x, self.root) for x in X])\n",
    "    \n",
    "    def _traverse_tree(self, X, node):\n",
    "        if node.is_leaf_node():\n",
    "            return node.value\n",
    "\n",
    "        if self.FeatureType[node.feature] == \"Categorical\":\n",
    "            if X[node.feature] == node.threshold:\n",
    "                return self._traverse_tree(X, node.left)\n",
    "            return self._traverse_tree(X, node.right)        \n",
    "        else:\n",
    "            if X[node.feature] <= node.threshold:\n",
    "                return self._traverse_tree(X, node.left)\n",
    "\n",
    "            return self._traverse_tree(X, node.right)\n",
    "\n",
    "def fcnAccuracy(y_true, y_pred):\n",
    "    accuracy = np.sum(y_true == y_pred) / len(y_true)\n",
    "    return accuracy"
   ]
  },
  {
   "cell_type": "code",
   "execution_count": 4,
   "metadata": {},
   "outputs": [],
   "source": [
    "data = datasets.load_breast_cancer()\n",
    "X = data.data\n",
    "y = data.target\n",
    "\n",
    "X_train, X_test, y_train, y_test = train_test_split(X, y, test_size=0.25, random_state=2)"
   ]
  },
  {
   "cell_type": "code",
   "execution_count": 5,
   "metadata": {},
   "outputs": [
    {
     "name": "stdout",
     "output_type": "stream",
     "text": [
      "Accuracy: 0.9230769230769231\n"
     ]
    }
   ],
   "source": [
    "dt = C_4_5_DecisionTreeClassifier(max_depth = float('inf'), threshold_for_category=0)\n",
    "dt.fit(X_train, y_train)\n",
    "    \n",
    "y_pred = dt.predict(X_test)\n",
    "accuracy = fcnAccuracy(y_test, y_pred)\n",
    "\n",
    "print (\"Accuracy:\", accuracy)"
   ]
  },
  {
   "cell_type": "code",
   "execution_count": 8,
   "metadata": {},
   "outputs": [],
   "source": [
    "data2 = datasets.load_iris()\n",
    "X2 = data2.data\n",
    "y2= data2.target\n",
    "\n",
    "X2_train, X2_test, y2_train, y2_test = train_test_split(X2, y2, test_size=0.25, random_state=2)"
   ]
  },
  {
   "cell_type": "code",
   "execution_count": 15,
   "metadata": {},
   "outputs": [
    {
     "name": "stdout",
     "output_type": "stream",
     "text": [
      "Accuracy: 0.868421052631579\n"
     ]
    }
   ],
   "source": [
    "dt4 = C_4_5_DecisionTreeClassifier(max_depth=100, threshold_for_category=0)\n",
    "dt4.fit(X2_train, y2_train)\n",
    "    \n",
    "y_pred4 = dt4.predict(X2_test)\n",
    "accuracy4 = fcnAccuracy(y2_test, y_pred4)\n",
    "\n",
    "print (\"Accuracy:\", accuracy4)"
   ]
  },
  {
   "cell_type": "code",
   "execution_count": null,
   "metadata": {},
   "outputs": [],
   "source": []
  }
 ],
 "metadata": {
  "kernelspec": {
   "display_name": "Python 3",
   "language": "python",
   "name": "python3"
  },
  "language_info": {
   "codemirror_mode": {
    "name": "ipython",
    "version": 3
   },
   "file_extension": ".py",
   "mimetype": "text/x-python",
   "name": "python",
   "nbconvert_exporter": "python",
   "pygments_lexer": "ipython3",
   "version": "3.7.7"
  }
 },
 "nbformat": 4,
 "nbformat_minor": 4
}
