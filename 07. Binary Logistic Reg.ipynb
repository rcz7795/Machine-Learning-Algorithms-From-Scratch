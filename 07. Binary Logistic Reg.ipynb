{
 "cells": [
  {
   "cell_type": "markdown",
   "metadata": {},
   "source": [
    "Simple Binary Logistic Regression"
   ]
  },
  {
   "cell_type": "code",
   "execution_count": 10,
   "metadata": {},
   "outputs": [],
   "source": [
    "#Importing the needed libraries\n",
    "\n",
    "import numpy as np\n",
    "import pandas as pd\n",
    "import matplotlib.pyplot as plt\n",
    "import seaborn as sns\n",
    "\n",
    "%matplotlib inline"
   ]
  },
  {
   "cell_type": "code",
   "execution_count": 44,
   "metadata": {},
   "outputs": [],
   "source": [
    "#Creating Dummy Data\n",
    "\n",
    "from sklearn.datasets.samples_generator import make_blobs\n",
    "\n",
    "def fcnCreateDatasets(intSamples):\n",
    "    X, y = make_blobs(n_samples = intSamples, centers = 2, n_features = 2, cluster_std = 5, random_state = 15)\n",
    "    return X,y"
   ]
  },
  {
   "cell_type": "code",
   "execution_count": 12,
   "metadata": {},
   "outputs": [],
   "source": [
    "#Functions for Cost and Hypothesis Functions\n",
    "\n",
    "def fcnAddBias(X):\n",
    "    Z = np.insert(X, 0, 1, axis = 1)\n",
    "    return Z\n",
    "\n",
    "def fcnApplySigmoidFunction(PredictedVector):\n",
    "    return 1 / (1 + np.exp(-1 * PredictedVector))\n",
    "\n",
    "def fcnHypothesisFunction(Weight, X):\n",
    "    z = np.dot(X, Weight)\n",
    "    return fcnApplySigmoidFunction(z)\n",
    "\n",
    "def fcnCostFunction(Weight, X, y):\n",
    "    y_pred = fcnHypothesisFunction(Weight, X)\n",
    "    return -1 * np.sum(y*np.log(y_pred) + (1-y)*np.log(1-y_pred))"
   ]
  },
  {
   "cell_type": "code",
   "execution_count": 13,
   "metadata": {},
   "outputs": [],
   "source": [
    "#Updating the weights using Gradient Descent\n",
    "\n",
    "def fcnGradientCalculation(Weight, X, y):\n",
    "    y_pred = fcnHypothesisFunction(Weight, X)\n",
    "    g = (1/len(X)) * np.dot(X.T, (y_pred - y))\n",
    "    return g.reshape(-1,1)\n",
    "\n",
    "def fcnCalculateWeight(X, y, w_prev, intLR, intEpochs):\n",
    "    X = fcnAddBias(X)\n",
    "    CostFunctionValue = np.zeros(intEpochs)\n",
    "    w_new = w_prev\n",
    "    for intIterations in range(0, intEpochs):\n",
    "        w_new = w_new - intLR * fcnGradientCalculation(w_new, X, y)\n",
    "        CostFunctionValue[intIterations] = fcnCostFunction(w_new, X, y)\n",
    "    return w_new, CostFunctionValue\n",
    "        "
   ]
  },
  {
   "cell_type": "code",
   "execution_count": 57,
   "metadata": {},
   "outputs": [
    {
     "name": "stdout",
     "output_type": "stream",
     "text": [
      "The Weight is : [[0]\n",
      " [0]\n",
      " [0]] and Cost Function value is : 138.62943611198904\n",
      "The Weight is : [[ 0.51156485]\n",
      " [-0.94198976]\n",
      " [ 0.18367964]] and Cost Function value is : 18.168206369040018\n"
     ]
    },
    {
     "data": {
      "text/plain": [
       "[<matplotlib.lines.Line2D at 0x45d90c9b08>]"
      ]
     },
     "execution_count": 57,
     "metadata": {},
     "output_type": "execute_result"
    },
    {
     "data": {
      "image/png": "[encoded data removed]",
      "text/plain": [
       "<Figure size 432x288 with 1 Axes>"
      ]
     },
     "metadata": {
      "needs_background": "light"
     },
     "output_type": "display_data"
    }
   ],
   "source": [
    "#Generating fake data and Calculating Weights\n",
    "\n",
    "x, y = fcnCreateDatasets(200)\n",
    "y = y.reshape(-1,1)\n",
    "W = np.array([0, 0, 0]).reshape(-1,1)\n",
    "\n",
    "Weight, CostFunctionValue = fcnCalculateWeight(x, y, W, 0.05, 2000)\n",
    "print(\"The Weight is : {} and Cost Function value is : {}\".format(W, fcnCostFunction(W, fcnAddBias(x), y)))\n",
    "print(\"The Weight is : {} and Cost Function value is : {}\".format(Weight, fcnCostFunction(Weight, fcnAddBias(x), y)))\n",
    "plt.semilogy(CostFunctionValue)"
   ]
  },
  {
   "cell_type": "code",
   "execution_count": 52,
   "metadata": {},
   "outputs": [
    {
     "name": "stdout",
     "output_type": "stream",
     "text": [
      "The Weight is : [[-0.92519753  0.19088044]] and Bias value is : [0.61720587]\n"
     ]
    },
    {
     "name": "stderr",
     "output_type": "stream",
     "text": [
      "C:\\Users\\RISHABH CHOUDHARY\\anaconda3\\lib\\site-packages\\sklearn\\utils\\validation.py:760: DataConversionWarning: A column-vector y was passed when a 1d array was expected. Please change the shape of y to (n_samples, ), for example using ravel().\n",
      "  y = column_or_1d(y, warn=True)\n"
     ]
    }
   ],
   "source": [
    "from sklearn.linear_model  import LogisticRegression\n",
    "LogReg = LogisticRegression()\n",
    "LogReg.fit(x,y)\n",
    "print(\"The Weight is : {} and Bias value is : {}\".format(LogReg.coef_, LogReg.intercept_))"
   ]
  },
  {
   "cell_type": "code",
   "execution_count": 61,
   "metadata": {},
   "outputs": [
    {
     "data": {
      "image/png": "[encoded data removed]",
      "text/plain": [
       "<Figure size 432x288 with 1 Axes>"
      ]
     },
     "metadata": {
      "needs_background": "light"
     },
     "output_type": "display_data"
    }
   ],
   "source": [
    "#Plotting the dataset\n",
    "\n",
    "def fcnGraph(formula, x_range):\n",
    "    x = np.array(x_range)\n",
    "    y = formula(x)\n",
    "    plt.plot(x,y)\n",
    "    \n",
    "def fcnLine(x):\n",
    "    return (- Weight[0] - Weight[1] * x) / Weight[2]\n",
    "\n",
    "df = pd.DataFrame(dict(x = x[:,0], y = x[:,1], label = y.reshape(-1)))\n",
    "colors = {0 : 'blue', 1 : 'orange'}\n",
    "fig, ax = plt.subplots()\n",
    "grouped = df.groupby('label')\n",
    "for key, group in grouped:\n",
    "    group.plot(ax = ax, kind = 'scatter', x = 'x', y = 'y', label = key, color = colors[key])\n",
    "fcnGraph(fcnLine, range(-5, 5))\n",
    "plt.xlabel('X0')\n",
    "plt.ylabel('X1')\n",
    "plt.title(\"Simple Binary Logistic Regression\")\n",
    "plt.show()"
   ]
  },
  {
   "cell_type": "code",
   "execution_count": null,
   "metadata": {},
   "outputs": [],
   "source": []
  }
 ],
 "metadata": {
  "kernelspec": {
   "display_name": "Python 3",
   "language": "python",
   "name": "python3"
  },
  "language_info": {
   "codemirror_mode": {
    "name": "ipython",
    "version": 3
   },
   "file_extension": ".py",
   "mimetype": "text/x-python",
   "name": "python",
   "nbconvert_exporter": "python",
   "pygments_lexer": "ipython3",
   "version": "3.7.7"
  }
 },
 "nbformat": 4,
 "nbformat_minor": 4
}
