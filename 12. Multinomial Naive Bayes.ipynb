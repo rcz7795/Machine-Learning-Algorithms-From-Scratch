{
 "cells": [
  {
   "cell_type": "markdown",
   "metadata": {},
   "source": [
    "Multinomial Naive Bayes"
   ]
  },
  {
   "cell_type": "code",
   "execution_count": 1,
   "metadata": {},
   "outputs": [],
   "source": [
    "#Importing the needed libraries\n",
    "\n",
    "import numpy as np\n",
    "import pandas as pd\n",
    "import matplotlib.pyplot as plt\n",
    "import seaborn as sns\n",
    "\n",
    "%matplotlib inline"
   ]
  },
  {
   "cell_type": "code",
   "execution_count": 2,
   "metadata": {},
   "outputs": [],
   "source": [
    "#Importing libraries for comparison\n",
    "\n",
    "from sklearn.model_selection import train_test_split\n",
    "from sklearn import metrics\n",
    "from sklearn.naive_bayes import MultinomialNB\n",
    "from sklearn.datasets import load_iris, make_classification"
   ]
  },
  {
   "cell_type": "code",
   "execution_count": 99,
   "metadata": {},
   "outputs": [],
   "source": [
    "#Creating the function for Naive Bayes Classifier\n",
    "\n",
    "def fcnNaiveBayes(X, y, X_test, intAlpha = 0.1):\n",
    "    \n",
    "    yUniqueClass, yCountForEachUnqiueClass = np.unique(y, return_counts=True)\n",
    "    intNumberOfSamples, intNumberOfFeatures = X.shape\n",
    "    intNumberOfClass = len(yUniqueClass)\n",
    "    yProbForEachClass = yCountForEachUnqiueClass / float(intNumberOfSamples)\n",
    "    xUniqueFeatures = [np.unique(x) for x in X.T]\n",
    "    \n",
    "    xProbForEachFeatureEachClass = []\n",
    "    xCountForEachFeatureEachClass = []\n",
    "    \n",
    "    for intClassIterator in range(0, intNumberOfClass):\n",
    "        xProbForEachFeature = []\n",
    "        xCountForEachFeature = []\n",
    "        for intFeatureIterator in range(0, intNumberOfFeatures):\n",
    "            xUniqueFeatureForEachClass = X[:, intFeatureIterator][y == intClassIterator].reshape(-1,1) == xUniqueFeatures[intFeatureIterator]\n",
    "            xProbForEachFeature.append((xUniqueFeatureForEachClass.sum(axis=0) + intAlpha) / (len(xUniqueFeatureForEachClass) + (intNumberOfFeatures * intAlpha)))\n",
    "            xCountForEachFeature.append(len(xUniqueFeatureForEachClass))\n",
    "        xProbForEachFeatureEachClass.append(xProbForEachFeature)\n",
    "        xCountForEachFeatureEachClass.append(xCountForEachFeature)\n",
    "        \n",
    "    yPredicted = np.zeros(X_test.shape[0])\n",
    "    yProbability = np.zeros(X_test.shape[0])\n",
    "    for intSampleIndex, testSample in enumerate(X_test):\n",
    "        yPosteriorForEachSample = np.zeros(intNumberOfClass)\n",
    "        for intClassIndex, intClassLabel in enumerate(yUniqueClass):\n",
    "            yPrior = yProbForEachClass[intClassIndex]\n",
    "            yConditionalProb = 0\n",
    "            for intFeatureIndex, intFeatureValue in enumerate(testSample):\n",
    "                if intFeatureValue in xUniqueFeatures[intFeatureIndex]:\n",
    "                    intIndex = list(xUniqueFeatures[intFeatureIndex]).index(intFeatureValue)\n",
    "                    yConditionalProb += np.log(xProbForEachFeatureEachClass[intClassIndex][intFeatureIndex][intIndex])\n",
    "                else:\n",
    "                    yUnseenProb = 1 + intAlpha / (xCountForEachFeatureEachClass[intClassIndex][intFeatureIndex] + (intNumberOfFeatures * intAlpha))\n",
    "                    yConditionalProb += np.log(yUnseenProb)\n",
    "            yPosteriorForEachSample[intClassIndex] = yConditionalProb + yPrior\n",
    "        yPredicted[intSampleIndex] = yUniqueClass[np.argmax(yPosteriorForEachSample)]\n",
    "        yProbability[intSampleIndex] = np.exp(np.max(yPosteriorForEachSample))\n",
    "        \n",
    "    return yPredicted, yProbability\n",
    "\n",
    "def fcnCalculateAccuracy(y_predicted, y_test):\n",
    "    return np.mean(y_predicted == y_test)"
   ]
  },
  {
   "cell_type": "code",
   "execution_count": 91,
   "metadata": {},
   "outputs": [],
   "source": [
    "#Working on Toy Dataset\n",
    "\n",
    "data = load_iris()\n",
    "X = data['data']\n",
    "Y = data['target']\n",
    "X_train, X_test, Y_train, Y_test = train_test_split(X, Y, test_size=0.25, random_state=2)"
   ]
  },
  {
   "cell_type": "code",
   "execution_count": 100,
   "metadata": {},
   "outputs": [],
   "source": [
    "#Using the Naive Bayes Classifier\n",
    "\n",
    "Y_Pred, Y_Prob = fcnNaiveBayes(X_train, Y_train, X_test, 0.01)\n",
    "Accuracy = fcnCalculateAccuracy(Y_Pred, Y_test)"
   ]
  },
  {
   "cell_type": "code",
   "execution_count": 101,
   "metadata": {},
   "outputs": [
    {
     "data": {
      "image/png": "[encoded data removed]",
      "text/plain": [
       "<Figure size 288x288 with 2 Axes>"
      ]
     },
     "metadata": {
      "needs_background": "light"
     },
     "output_type": "display_data"
    }
   ],
   "source": [
    "#Confusion Matrix \n",
    "\n",
    "cm = metrics.confusion_matrix(Y_test, Y_Pred)\n",
    "plt.figure(figsize=(4,4))\n",
    "sns.heatmap(cm, annot=True, fmt=\".0f\", linewidths=.5, square = True, cmap = 'Blues_r');\n",
    "plt.ylabel('Actual label');\n",
    "plt.xlabel('Predicted label');\n",
    "all_sample_title = 'Accuracy Score: {0}'.format(round(Accuracy, 2))\n",
    "plt.title(all_sample_title, size = 15);"
   ]
  },
  {
   "cell_type": "code",
   "execution_count": 72,
   "metadata": {},
   "outputs": [
    {
     "data": {
      "text/plain": [
       "0.9736842105263158"
      ]
     },
     "execution_count": 72,
     "metadata": {},
     "output_type": "execute_result"
    }
   ],
   "source": [
    "#Comparison with sklearn library\n",
    "\n",
    "NBC2 = MultinomialNB()\n",
    "NBC2.fit(X_train, Y_train)\n",
    "Y_Predicted =  NBC2.predict(X_test)\n",
    "score = metrics.accuracy_score(Y_test, Y_Predicted)\n",
    "score"
   ]
  },
  {
   "cell_type": "code",
   "execution_count": null,
   "metadata": {},
   "outputs": [],
   "source": []
  }
 ],
 "metadata": {
  "kernelspec": {
   "display_name": "Python 3",
   "language": "python",
   "name": "python3"
  },
  "language_info": {
   "codemirror_mode": {
    "name": "ipython",
    "version": 3
   },
   "file_extension": ".py",
   "mimetype": "text/x-python",
   "name": "python",
   "nbconvert_exporter": "python",
   "pygments_lexer": "ipython3",
   "version": "3.7.7"
  }
 },
 "nbformat": 4,
 "nbformat_minor": 4
}
