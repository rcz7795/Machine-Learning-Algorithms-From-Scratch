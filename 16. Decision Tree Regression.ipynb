{
 "cells": [
  {
   "cell_type": "code",
   "execution_count": 12,
   "metadata": {},
   "outputs": [],
   "source": [
    "import random\n",
    "import numpy as np\n",
    "import pandas as pd \n",
    "import matplotlib.pyplot as plt\n",
    "from collections import Counter\n",
    "\n",
    "from sklearn import datasets\n",
    "from sklearn.model_selection import train_test_split\n",
    "from sklearn.tree import DecisionTreeRegressor\n",
    "from sklearn.tree import plot_tree\n",
    "from sklearn.metrics import r2_score"
   ]
  },
  {
   "cell_type": "code",
   "execution_count": 16,
   "metadata": {},
   "outputs": [],
   "source": [
    "def fcnCalculateMSE(y):\n",
    "    if len(y) == 0:\n",
    "        return 0\n",
    "    else:\n",
    "        yPred = np.mean(y)\n",
    "        return np.mean((y - yPred) ** 2)"
   ]
  },
  {
   "cell_type": "code",
   "execution_count": 17,
   "metadata": {},
   "outputs": [],
   "source": [
    "class Node:\n",
    "\n",
    "    def __init__(self, feature = None, threshold = None, left = None, right = None, *, value = None):\n",
    "        self.feature = feature\n",
    "        self.threshold = threshold\n",
    "        self.left = left\n",
    "        self.right = right\n",
    "        self.value = value\n",
    "        \n",
    "    def is_leaf_node(self):\n",
    "        return self.value is not None\n",
    "    \n",
    "class ID3DecisionTreeRegressor:\n",
    "    \n",
    "    def __init__(self, min_sample_split = 2, max_depth = 100, n_feats = None, threshold_for_category = 10):\n",
    "        self.min_sample_split = min_sample_split\n",
    "        self.max_depth = max_depth\n",
    "        self.n_feats = n_feats\n",
    "        self.root = None\n",
    "        self.FeatureType = None\n",
    "        self.threshold_for_category = threshold_for_category\n",
    "        self.y = None\n",
    "        \n",
    "    def _label_categorical_features(self, y):\n",
    "        yUnique = np.unique(y)\n",
    "        Y = np.zeros(len(y) , dtype = int)\n",
    "        for intCtr in range(0, len(y)):\n",
    "            Y[intCtr] = np.argwhere(y[intCtr] == yUnique)\n",
    "        return Y\n",
    "\n",
    "    \n",
    "    def _determine_feature_type(self, X):\n",
    "        lstFeatureType = []\n",
    "        for intFeatureIterator in range(0, X.shape[1]):\n",
    "            if len(np.unique(X[:, intFeatureIterator])) <= self.threshold_for_category or isinstance(np.unique(X[:, intFeatureIterator]), str):\n",
    "                lstFeatureType.append(\"Categorical\")\n",
    "            else:\n",
    "                lstFeatureType.append(\"Continuous\")\n",
    "        \n",
    "        return lstFeatureType\n",
    "        \n",
    "    def fit(self, X, y):\n",
    "        self.n_feats = X.shape[1] if not self.n_feats else min(X.shape[1], self.n_feats)\n",
    "        self.FeatureType = self._determine_feature_type(X)\n",
    "        self.y = y\n",
    "        self.root = self._grow_tree(X, y)\n",
    "        \n",
    "    def _grow_tree(self, X, y, depth = 0):\n",
    "        n_samples, n_features = X.shape\n",
    "        n_labels = len(np.unique(y))\n",
    "        \n",
    "        if (depth >= self.max_depth or n_labels == 1 or n_samples < self.min_sample_split):\n",
    "            leaf_value = self._mean(y)\n",
    "            return Node(value = leaf_value)\n",
    "        \n",
    "        feat_idxs = np.random.choice(n_features, self.n_feats, replace = False)\n",
    "        \n",
    "        best_feat, best_thresh = self._best_criteria(X, y, feat_idxs)\n",
    "        left_idxs, right_idxs = self._Split(X[:, best_feat], best_thresh, self.FeatureType[best_feat])\n",
    "        left = self._grow_tree(X[left_idxs, :], y[left_idxs], depth+1)\n",
    "        right = self._grow_tree(X[right_idxs, :], y[right_idxs], depth+1)\n",
    "        \n",
    "        return Node(best_feat, best_thresh, left, right)       \n",
    "    \n",
    "    def _best_criteria(self, X, y, feat_idxs):\n",
    "        best_gain = -1\n",
    "        split_idx, split_thresh = None, None\n",
    "        for feat_idx in feat_idxs:\n",
    "            X_column = X[:, feat_idx]\n",
    "            feature_type = self.FeatureType[feat_idx]\n",
    "            thresholds = np.unique(X_column)\n",
    "            for threshold in thresholds:\n",
    "                gain = self._information_gain(self.y, X_column, threshold, feature_type)\n",
    "                if gain > best_gain:\n",
    "                    best_gain = gain\n",
    "                    split_idx = feat_idx\n",
    "                    split_thresh = threshold\n",
    "        return split_idx, split_thresh\n",
    "    \n",
    "  \n",
    "    def _information_gain(self, y, X_column, split_thresh, feature_type):\n",
    "        parent_entropy = fcnCalculateMSE(y)\n",
    "        \n",
    "        left_idxs, right_idxs = self._Split(X_column, split_thresh, feature_type)\n",
    "        if len(left_idxs) == 0 or len(right_idxs) == 0:\n",
    "            return 0\n",
    "        n = len(y)\n",
    "        n_l, n_r = len(left_idxs), len(right_idxs)\n",
    "        e_l, e_r = fcnCalculateMSE(y[left_idxs]), fcnCalculateMSE(y[right_idxs])\n",
    "        child_entropy = (n_l/n) * e_l + (n_r/n) * e_r\n",
    "        ig = parent_entropy - child_entropy\n",
    "        return ig\n",
    "         \n",
    "    \n",
    "    def _Split(self, X_column, split_thresh, feature_type):\n",
    "        if feature_type == \"Continuous\":\n",
    "            left_idxs = np.argwhere(X_column <= split_thresh).flatten()\n",
    "            right_idxs = np.argwhere(X_column > split_thresh).flatten()\n",
    "        else:\n",
    "            left_idxs = np.argwhere(X_column == split_thresh).flatten()\n",
    "            right_idxs = np.argwhere(X_column != split_thresh).flatten()            \n",
    "        return left_idxs, right_idxs\n",
    "        \n",
    "    def _mean(self, y):\n",
    "        return np.mean(y)\n",
    "\n",
    "    def predict(self, X):\n",
    "        return np.array([self._traverse_tree(x, self.root) for x in X])\n",
    "    \n",
    "    def _traverse_tree(self, X, node):\n",
    "        if node.is_leaf_node():\n",
    "            return node.value\n",
    "\n",
    "        if self.FeatureType[node.feature] == \"Categorical\":\n",
    "            if X[node.feature] == node.threshold:\n",
    "                return self._traverse_tree(X, node.left)\n",
    "            return self._traverse_tree(X, node.right)        \n",
    "        else:\n",
    "            if X[node.feature] <= node.threshold:\n",
    "                return self._traverse_tree(X, node.left)\n",
    "\n",
    "            return self._traverse_tree(X, node.right)\n",
    "\n",
    "def fcnAccuracy(y_true, y_pred):\n",
    "    accuracy = np.sum(y_true == y_pred) / len(y_true)\n",
    "    return accuracy"
   ]
  },
  {
   "cell_type": "code",
   "execution_count": 10,
   "metadata": {},
   "outputs": [],
   "source": [
    "#Generating a random linear dataset\n",
    "\n",
    "def fcnCreateDataset(intNumberOfSamples, intVariance, intStep = 2, strCorrelation = \"P\"):\n",
    "    intValue = 1\n",
    "    X = []\n",
    "    Y = []\n",
    "    for intCtr in range(1,intNumberOfSamples):\n",
    "        X.append(intCtr)\n",
    "        Y.append(intCtr + random.randrange(-intVariance,intVariance))\n",
    "        if strCorrelation == \"P\":\n",
    "            intValue += intStep\n",
    "        else:\n",
    "            intValue -= intStep\n",
    "    \n",
    "    return np.array(X, dtype=np.float64), np.array(Y, dtype=np.float64),    "
   ]
  },
  {
   "cell_type": "code",
   "execution_count": 13,
   "metadata": {},
   "outputs": [],
   "source": [
    "#Splitting the data\n",
    "\n",
    "x, y = fcnCreateDataset(200,100,5,\"P\")\n",
    "x_train, x_test, y_train, y_test = train_test_split(x, y, test_size=0.2, random_state=42)"
   ]
  },
  {
   "cell_type": "code",
   "execution_count": 42,
   "metadata": {},
   "outputs": [
    {
     "name": "stdout",
     "output_type": "stream",
     "text": [
      "Accuracy: -0.4213564602456785\n"
     ]
    }
   ],
   "source": [
    "dt = ID3DecisionTreeRegressor(max_depth=100, threshold_for_category=10)\n",
    "dt.fit(x_train.reshape(-1,1), y_train)\n",
    "    \n",
    "y_pred = dt.predict(x_test.reshape(-1,1))\n",
    "r2 = r2_score(y_test, y_pred)\n",
    "\n",
    "print (\"Accuracy:\", r2)"
   ]
  },
  {
   "cell_type": "code",
   "execution_count": 27,
   "metadata": {},
   "outputs": [
    {
     "data": {
      "image/png": "[encoded data removed]",
      "text/plain": [
       "<Figure size 1440x576 with 1 Axes>"
      ]
     },
     "metadata": {
      "needs_background": "light"
     },
     "output_type": "display_data"
    }
   ],
   "source": [
    "#Plotting all the datapoints\n",
    "\n",
    "fig = plt.figure(figsize=(20,8))\n",
    "fig.suptitle(\"Simple Decision Tree Regression Plot\", fontsize=14, fontweight=\"bold\")\n",
    "ax = fig.add_subplot(111)\n",
    "fig.subplots_adjust(top = 0.85)\n",
    "ax.set_title(\"Showing Relationship\")\n",
    "ax.set_xlabel(\"X\")\n",
    "ax.set_ylabel(\"Y\")\n",
    "ax.text(0, 250, \"R2 : {}\".format(np.round(r2, 4)) , style = 'italic', bbox = {'facecolor': 'red', 'alpha': 0.5, 'pad': 10})\n",
    "plt.scatter(x_train, y_train, color='#33FFC7',label = 'Data')\n",
    "plt.scatter(x_test, y_test, color='#FFB10B', label = \"Actual Test Data\")\n",
    "plt.scatter(x_test, y_pred, color='r', label = \"Predicted Test Data\")\n",
    "plt.legend(loc=4)\n",
    "plt.show()"
   ]
  },
  {
   "cell_type": "code",
   "execution_count": 31,
   "metadata": {},
   "outputs": [
    {
     "name": "stdout",
     "output_type": "stream",
     "text": [
      "Accuracy: -0.22332149318787375\n"
     ]
    }
   ],
   "source": [
    "dt2 = DecisionTreeRegressor()\n",
    "dt2.fit(x_train.reshape(-1,1), y_train)\n",
    "    \n",
    "y_pred2 = dt2.predict(x_test.reshape(-1,1))\n",
    "R2 = r2_score(y_test, y_pred2)\n",
    "\n",
    "print (\"Accuracy:\", R2)"
   ]
  },
  {
   "cell_type": "code",
   "execution_count": null,
   "metadata": {},
   "outputs": [],
   "source": []
  }
 ],
 "metadata": {
  "kernelspec": {
   "display_name": "Python 3",
   "language": "python",
   "name": "python3"
  },
  "language_info": {
   "codemirror_mode": {
    "name": "ipython",
    "version": 3
   },
   "file_extension": ".py",
   "mimetype": "text/x-python",
   "name": "python",
   "nbconvert_exporter": "python",
   "pygments_lexer": "ipython3",
   "version": "3.7.7"
  }
 },
 "nbformat": 4,
 "nbformat_minor": 4
}
